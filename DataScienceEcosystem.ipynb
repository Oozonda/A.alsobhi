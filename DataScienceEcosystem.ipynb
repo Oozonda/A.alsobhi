{
 "cells": [
  {
   "cell_type": "markdown",
   "id": "8798aa90",
   "metadata": {},
   "source": [
    "# Data Science Tools and Ecosystem"
   ]
  },
  {
   "cell_type": "markdown",
   "id": "89646280",
   "metadata": {},
   "source": [
    "In this notebook, Data Science Tools and Ecosystem are summrized "
   ]
  },
  {
   "cell_type": "markdown",
   "id": "e7b75030",
   "metadata": {},
   "source": [
    "** Objectives: **\n",
    "- popular languages in data science.\n",
    "- common libraries.\n",
    "- development enviroment.\n",
    "- arithmetic operations."
   ]
  },
  {
   "cell_type": "markdown",
   "id": "048abb52",
   "metadata": {},
   "source": [
    "Some of the popular languages that Data Scientists use are:\n",
    "- Python\n",
    "- R\n",
    "- SQL"
   ]
  },
  {
   "cell_type": "markdown",
   "id": "ab941223",
   "metadata": {},
   "source": [
    "Some of the commonly used libraries used by Data Scientists include:\n",
    "- Pandas\n",
    "- matplotlib\n",
    "- Numpy"
   ]
  },
  {
   "cell_type": "markdown",
   "id": "e59af39b",
   "metadata": {},
   "source": [
    "| Data Science Tools |\n",
    "|--------------------|\n",
    "| Jupyter Notebook   |\n",
    "| Jupyter Lab        |\n",
    "| Apache MLlib       |"
   ]
  },
  {
   "cell_type": "markdown",
   "id": "fd130fa2",
   "metadata": {},
   "source": [
    "### Bellow are a few examples of evaluating arithmatic expression in python"
   ]
  },
  {
   "cell_type": "code",
   "execution_count": 1,
   "id": "a14ec654",
   "metadata": {},
   "outputs": [
    {
     "data": {
      "text/plain": [
       "17"
      ]
     },
     "execution_count": 1,
     "metadata": {},
     "output_type": "execute_result"
    }
   ],
   "source": [
    "#this is a simple arithmatic expression to multiply then add integers\n",
    "(3*4)+5"
   ]
  },
  {
   "cell_type": "code",
   "execution_count": 2,
   "id": "46dedd61",
   "metadata": {},
   "outputs": [
    {
     "data": {
      "text/plain": [
       "3.3333333333333335"
      ]
     },
     "execution_count": 2,
     "metadata": {},
     "output_type": "execute_result"
    }
   ],
   "source": [
    "#this will convert 200 minutes to hours by dividing by 60\n",
    "200/60"
   ]
  },
  {
   "cell_type": "markdown",
   "id": "edf77b3d",
   "metadata": {},
   "source": [
    "## Author:\n",
    "Abdullah Alsobhi"
   ]
  },
  {
   "cell_type": "code",
   "execution_count": null,
   "id": "a425fbae",
   "metadata": {},
   "outputs": [],
   "source": []
  }
 ],
 "metadata": {
  "kernelspec": {
   "display_name": "Python 3 (ipykernel)",
   "language": "python",
   "name": "python3"
  },
  "language_info": {
   "codemirror_mode": {
    "name": "ipython",
    "version": 3
   },
   "file_extension": ".py",
   "mimetype": "text/x-python",
   "name": "python",
   "nbconvert_exporter": "python",
   "pygments_lexer": "ipython3",
   "version": "3.11.4"
  }
 },
 "nbformat": 4,
 "nbformat_minor": 5
}
